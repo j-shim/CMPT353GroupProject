{
 "cells": [
  {
   "cell_type": "code",
   "execution_count": 1,
   "metadata": {},
   "outputs": [],
   "source": [
    "\"\"\"\n",
    "Notebook for exploring, testing, etc\n",
    "To be deleted before deadline\n",
    "\n",
    "I'm committing this file just in case anything here might be useful\n",
    "\"\"\"\n",
    "import numpy as np\n",
    "import pandas as pd\n",
    "import matplotlib.pyplot as plt\n",
    "import sys\n",
    "from sklearn.model_selection import train_test_split\n",
    "from sklearn.naive_bayes import GaussianNB\n",
    "from sklearn.pipeline import make_pipeline\n",
    "from sklearn.preprocessing import FunctionTransformer, MinMaxScaler, StandardScaler\n",
    "from sklearn.neighbors import KNeighborsClassifier\n",
    "from sklearn.svm import SVC"
   ]
  },
  {
   "cell_type": "code",
   "execution_count": 2,
   "metadata": {},
   "outputs": [],
   "source": [
    "data = pd.read_csv('creditcard.csv')"
   ]
  },
  {
   "cell_type": "code",
   "execution_count": 3,
   "metadata": {},
   "outputs": [],
   "source": [
    "# Warning/Error message unless type conversion is applied\n",
    "fraud = data[data['Class'].astype('int') == 1]\n",
    "normal = data[data['Class'].astype('int') == 0]"
   ]
  },
  {
   "cell_type": "code",
   "execution_count": 4,
   "metadata": {},
   "outputs": [],
   "source": [
    "# We have 492 frauds out of 284,807 transactions,\n",
    "# which is highly unbalanced, so\n",
    "# We'll be using 492 frauds + fraction of normal data\n",
    "frac = 1 # Adjust fraction here\n",
    "n = len(fraud) * frac\n",
    "normalfrac = normal.sample(n=n)"
   ]
  },
  {
   "cell_type": "code",
   "execution_count": 5,
   "metadata": {},
   "outputs": [],
   "source": [
    "newdata = pd.concat([normalfrac, fraud])"
   ]
  },
  {
   "cell_type": "code",
   "execution_count": 6,
   "metadata": {},
   "outputs": [],
   "source": [
    "X = newdata.drop(columns='Class').values\n",
    "y = newdata['Class'].values\n",
    "X_train, X_valid, y_train, y_valid = train_test_split(X, y)"
   ]
  },
  {
   "cell_type": "code",
   "execution_count": 7,
   "metadata": {},
   "outputs": [
    {
     "name": "stdout",
     "output_type": "stream",
     "text": [
      "0.8794037940379403\n",
      "0.8617886178861789\n"
     ]
    }
   ],
   "source": [
    "bayes_model = GaussianNB()\n",
    "bayes_model.fit(X_train, y_train)\n",
    "print(bayes_model.score(X_train, y_train))\n",
    "print(bayes_model.score(X_valid, y_valid))"
   ]
  },
  {
   "cell_type": "code",
   "execution_count": 8,
   "metadata": {},
   "outputs": [
    {
     "name": "stdout",
     "output_type": "stream",
     "text": [
      "0.9186991869918699\n",
      "0.9186991869918699\n"
     ]
    }
   ],
   "source": [
    "bayes_model2 = make_pipeline(\n",
    "    StandardScaler(),\n",
    "    GaussianNB()\n",
    ")\n",
    "bayes_model2.fit(X_train, y_train)\n",
    "print(bayes_model2.score(X_train, y_train))\n",
    "print(bayes_model2.score(X_valid, y_valid))"
   ]
  },
  {
   "cell_type": "code",
   "execution_count": 9,
   "metadata": {},
   "outputs": [
    {
     "name": "stdout",
     "output_type": "stream",
     "text": [
      "0.8197831978319783\n",
      "0.6422764227642277\n"
     ]
    }
   ],
   "source": [
    "knn_model = KNeighborsClassifier(n_neighbors=3)\n",
    "knn_model.fit(X_train, y_train)\n",
    "print(knn_model.score(X_train, y_train))\n",
    "print(knn_model.score(X_valid, y_valid))"
   ]
  },
  {
   "cell_type": "code",
   "execution_count": 10,
   "metadata": {},
   "outputs": [
    {
     "name": "stdout",
     "output_type": "stream",
     "text": [
      "0.9186991869918699\n",
      "0.9186991869918699\n"
     ]
    }
   ],
   "source": [
    "knn_model2 = make_pipeline(\n",
    "    StandardScaler(),\n",
    "    GaussianNB()\n",
    ")\n",
    "knn_model2.fit(X_train, y_train)\n",
    "print(knn_model2.score(X_train, y_train))\n",
    "print(knn_model2.score(X_valid, y_valid))"
   ]
  },
  {
   "cell_type": "code",
   "execution_count": 11,
   "metadata": {},
   "outputs": [
    {
     "name": "stdout",
     "output_type": "stream",
     "text": [
      "0.9024390243902439\n",
      "0.9065040650406504\n"
     ]
    }
   ],
   "source": [
    "svm_model = SVC(C=1.0, kernel='linear')\n",
    "svm_model.fit(X_train, y_train)\n",
    "print(svm_model.score(X_train, y_train))\n",
    "print(svm_model.score(X_valid, y_valid))"
   ]
  },
  {
   "cell_type": "code",
   "execution_count": 12,
   "metadata": {},
   "outputs": [
    {
     "name": "stdout",
     "output_type": "stream",
     "text": [
      "0.94579945799458\n",
      "0.9349593495934959\n"
     ]
    }
   ],
   "source": [
    "svm_model2 = make_pipeline(\n",
    "    StandardScaler(),\n",
    "    SVC(C=1.0, kernel='linear')\n",
    ")\n",
    "svm_model2.fit(X_train, y_train)\n",
    "print(svm_model2.score(X_train, y_train))\n",
    "print(svm_model2.score(X_valid, y_valid))"
   ]
  },
  {
   "cell_type": "code",
   "execution_count": null,
   "metadata": {},
   "outputs": [],
   "source": []
  }
 ],
 "metadata": {
  "kernelspec": {
   "display_name": "Python 3",
   "language": "python",
   "name": "python3"
  },
  "language_info": {
   "codemirror_mode": {
    "name": "ipython",
    "version": 3
   },
   "file_extension": ".py",
   "mimetype": "text/x-python",
   "name": "python",
   "nbconvert_exporter": "python",
   "pygments_lexer": "ipython3",
   "version": "3.7.3"
  }
 },
 "nbformat": 4,
 "nbformat_minor": 2
}
